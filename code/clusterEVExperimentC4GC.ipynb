{
 "cells": [
  {
   "cell_type": "code",
   "execution_count": 1,
   "metadata": {},
   "outputs": [],
   "source": [
    "import numpy as np\n",
    "import pandas as pd\n",
    "import networkx as nx\n",
    "import EoN\n",
    "import matplotlib.pyplot as plt\n",
    "import seaborn as sns\n",
    "from operator import itemgetter\n",
    "import math\n",
    "import random\n"
   ]
  },
  {
   "cell_type": "markdown",
   "metadata": {},
   "source": [
    "<h1>Initiates network</h1>\n",
    "<p>Example of erdos_renyi, barabasi_albert, watts_strogatz, and  stochastic_block_model</p>"
   ]
  },
  {
   "cell_type": "code",
   "execution_count": 2,
   "metadata": {},
   "outputs": [],
   "source": [
    "N=5000 # number of nodes\n",
    "\n",
    "#G = nx.erdos_renyi_graph(N, p=0.0008,seed=None, directed=False)\n",
    "#G=nx.barabasi_albert_graph(N, m=2)\n",
    "#G = nx.watts_strogatz_graph(N, k = 4, p = 0.4)\n",
    "sizes = [1000, 1000, 3000]\n",
    "probs = [[0.001, 0.0001, 0.0001], [0.0001, 0.001, 0.0001], [0.0001, 0.0001, 0.002]]\n",
    "ClusterRegion=3\n",
    "clusterSize=100\n",
    "clusterNo=3\n",
    "G=nx.stochastic_block_model(sizes, probs, seed=0)\n"
   ]
  },
  {
   "cell_type": "markdown",
   "metadata": {},
   "source": [
    "<h1>Network Properties</h1>\n",
    "<h3>Number of nodes, edges, degree distribution</h3>"
   ]
  },
  {
   "cell_type": "code",
   "execution_count": 3,
   "metadata": {},
   "outputs": [
    {
     "name": "stdout",
     "output_type": "stream",
     "text": [
      "5000\n",
      "10768\n"
     ]
    },
    {
     "name": "stderr",
     "output_type": "stream",
     "text": [
      "/apps/software/standard/compiler/gcc/9.2.0/jupyter_conda/2020.11-py3.8/lib/python3.8/site-packages/seaborn/distributions.py:2551: FutureWarning: `distplot` is a deprecated function and will be removed in a future version. Please adapt your code to use either `displot` (a figure-level function with similar flexibility) or `histplot` (an axes-level function for histograms).\n",
      "  warnings.warn(msg, FutureWarning)\n"
     ]
    },
    {
     "data": {
      "text/plain": [
       "<AxesSubplot:>"
      ]
     },
     "execution_count": 3,
     "metadata": {},
     "output_type": "execute_result"
    },
    {
     "data": {
      "image/png": "[encoded data removed]",
      "text/plain": [
       "<Figure size 432x288 with 1 Axes>"
      ]
     },
     "metadata": {
      "needs_background": "light"
     },
     "output_type": "display_data"
    }
   ],
   "source": [
    "print(G.number_of_nodes())\n",
    "print(G.number_of_edges())\n",
    "G.degree\n",
    "sns.distplot(sorted((d for n, d in G.degree()), reverse=True), kde = False, color ='red', bins = 30)"
   ]
  },
  {
   "cell_type": "code",
   "execution_count": 5,
   "metadata": {},
   "outputs": [],
   "source": [
    "centrality = nx.eigenvector_centrality(G)\n",
    "centralityArray=np.array(list(centrality.items()))\n",
    "sc=sorted(centrality.items(), key=lambda x:x[1],reverse=True)\n",
    "scList=list(sc)\n",
    "scArray=np.array(scList)"
   ]
  },
  {
   "cell_type": "markdown",
   "metadata": {},
   "source": [
    "<h1>An example of EON</h1>"
   ]
  },
  {
   "cell_type": "code",
   "execution_count": 8,
   "metadata": {},
   "outputs": [
    {
     "name": "stdout",
     "output_type": "stream",
     "text": [
      "0.456\n",
      "0.192\n",
      "0.0\n"
     ]
    }
   ],
   "source": [
    "tau=0.3\n",
    "gamma=1\n",
    "repli=1000\n",
    "episizeA=np.zeros(ClusterRegion)\n",
    "epicountA=np.zeros(ClusterRegion)\n",
    "degreeA=np.zeros(ClusterRegion)\n",
    "eigenvectorA=np.zeros(ClusterRegion)\n",
    "episize=np.zeros((repli,ClusterRegion), dtype=int)\n",
    "#aprint(episize)\n",
    "for c in np.arange(ClusterRegion):\n",
    "    #episize=0\n",
    "    epicount=0\n",
    "    \n",
    "    for i in np.arange(repli):\n",
    "        clu='cluster'+str(c)\n",
    "    \n",
    "        initial_infecteds=random.choice(clusterPd[clu])\n",
    "        t, S, I, R=EoN.fast_SIR(G, tau, gamma, initial_infecteds)\n",
    "        episize[i,c]=R[-1]\n",
    "        if R[-1]>250:\n",
    "            epicount=epicount+1\n",
    "\n",
    "    episizeA[c]=np.mean(episize[:,c])\n",
    "    epicountA[c]=epicount/repli\n",
    "    print(epicount/repli)\n",
    "    d=0\n",
    "    for j in clusterPd[clu]:\n",
    "            d=d+G.degree[j]\n",
    "    degreeA[c]=d/clusterSize\n",
    "    eigenvectorA[c]=np.mean(newCentralityArray[clusterPd[clu].astype('int').to_numpy(),1])\n"
   ]
  },
  {
   "cell_type": "code",
   "execution_count": 9,
   "metadata": {},
   "outputs": [
    {
     "data": {
      "text/plain": [
       "array([[  13,    5,    2],\n",
       "       [   2,    1,    1],\n",
       "       [1726,    2,    1],\n",
       "       ...,\n",
       "       [1787,    5,    3],\n",
       "       [1907,    1,    6],\n",
       "       [1723,    3,    2]])"
      ]
     },
     "execution_count": 9,
     "metadata": {},
     "output_type": "execute_result"
    }
   ],
   "source": [
    "episize"
   ]
  },
  {
   "cell_type": "code",
   "execution_count": 10,
   "metadata": {},
   "outputs": [
    {
     "data": {
      "text/plain": [
       "array([2.91376704e-02, 7.25719969e-03, 2.76140991e-07])"
      ]
     },
     "execution_count": 10,
     "metadata": {},
     "output_type": "execute_result"
    }
   ],
   "source": [
    "eigenvectorA"
   ]
  },
  {
   "cell_type": "code",
   "execution_count": 21,
   "metadata": {},
   "outputs": [
    {
     "data": {
      "image/png": "[encoded data removed]",
      "text/plain": [
       "<Figure size 432x288 with 1 Axes>"
      ]
     },
     "metadata": {
      "needs_background": "light"
     },
     "output_type": "display_data"
    }
   ],
   "source": [
    "import matplotlib.pyplot as plt\n",
    "import matplotlib.ticker as mtick\n",
    "from matplotlib.ticker import FuncFormatter\n",
    "fig = plt.figure(1, (6,4))\n",
    "ax = fig.add_axes([0,0,1,1])\n",
    "c = [ 'saddlebrown', 'thistle', 'lightcoral']\n",
    "langs = ['Set1', 'Set2', 'Set3']\n",
    "count = epicountA\n",
    "plt.bar(langs,(count),color='gray', width=0.2)\n",
    "#ax.bar_label(count)\n",
    "#plt.tight_layout()\n",
    "#plt.gca().yaxis.set_major_formatter(mtick.PercentFormatter())\n",
    "#ax.yaxis.set_major_formatter(FuncFormatter(lambda y, _: '{:.0%}'.format(y))) \n",
    "plt.rcParams[\"font.size\"] = \"20\"\n",
    "\n",
    "fig.savefig(\"SBMepicountA.png\",dpi=300,bbox_inches='tight')"
   ]
  },
  {
   "cell_type": "code",
   "execution_count": 19,
   "metadata": {},
   "outputs": [
    {
     "data": {
      "image/png": "[encoded data removed]",
      "text/plain": [
       "<Figure size 432x288 with 1 Axes>"
      ]
     },
     "metadata": {
      "needs_background": "light"
     },
     "output_type": "display_data"
    }
   ],
   "source": [
    "fig_box, ax_box = plt.subplots()\n",
    "ax_box.boxplot(episize)\n",
    "fig_box.savefig(\"SBMepidemicsize.png\",dpi=300,bbox_inches='tight')"
   ]
  },
  {
   "cell_type": "code",
   "execution_count": null,
   "metadata": {},
   "outputs": [],
   "source": []
  }
 ],
 "metadata": {
  "kernelspec": {
   "display_name": "Python 3",
   "language": "python",
   "name": "python3"
  },
  "language_info": {
   "codemirror_mode": {
    "name": "ipython",
    "version": 3
   },
   "file_extension": ".py",
   "mimetype": "text/x-python",
   "name": "python",
   "nbconvert_exporter": "python",
   "pygments_lexer": "ipython3",
   "version": "3.8.8"
  }
 },
 "nbformat": 4,
 "nbformat_minor": 4
}
